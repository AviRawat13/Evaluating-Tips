{
 "cells": [
  {
   "cell_type": "markdown",
   "id": "aedd6e7d",
   "metadata": {},
   "source": [
    "# the task to investigate the pattern of the tip received by the restaurant staff because the tip is an important parameter of their salary"
   ]
  },
  {
   "cell_type": "code",
   "execution_count": 76,
   "id": "2f31afc3",
   "metadata": {},
   "outputs": [],
   "source": [
    "import numpy as np\n",
    "import matplotlib.pyplot as plt\n",
    "import pandas as pd\n",
    "import seaborn as sns\n",
    "from scipy import stats\n",
    "from pandas import Series, DataFrame\n",
    "df = pd.read_csv(\"tips.csv\")"
   ]
  },
  {
   "cell_type": "code",
   "execution_count": 53,
   "id": "e2dbaed1",
   "metadata": {},
   "outputs": [
    {
     "data": {
      "text/html": [
       "<div>\n",
       "<style scoped>\n",
       "    .dataframe tbody tr th:only-of-type {\n",
       "        vertical-align: middle;\n",
       "    }\n",
       "\n",
       "    .dataframe tbody tr th {\n",
       "        vertical-align: top;\n",
       "    }\n",
       "\n",
       "    .dataframe thead th {\n",
       "        text-align: right;\n",
       "    }\n",
       "</style>\n",
       "<table border=\"1\" class=\"dataframe\">\n",
       "  <thead>\n",
       "    <tr style=\"text-align: right;\">\n",
       "      <th></th>\n",
       "      <th>total_bill</th>\n",
       "      <th>tip</th>\n",
       "      <th>sex</th>\n",
       "      <th>smoker</th>\n",
       "      <th>day</th>\n",
       "      <th>time</th>\n",
       "      <th>size</th>\n",
       "    </tr>\n",
       "  </thead>\n",
       "  <tbody>\n",
       "    <tr>\n",
       "      <th>0</th>\n",
       "      <td>16.99</td>\n",
       "      <td>1.01</td>\n",
       "      <td>Female</td>\n",
       "      <td>No</td>\n",
       "      <td>Sun</td>\n",
       "      <td>Dinner</td>\n",
       "      <td>2</td>\n",
       "    </tr>\n",
       "    <tr>\n",
       "      <th>1</th>\n",
       "      <td>10.34</td>\n",
       "      <td>1.66</td>\n",
       "      <td>Male</td>\n",
       "      <td>No</td>\n",
       "      <td>Sun</td>\n",
       "      <td>Dinner</td>\n",
       "      <td>3</td>\n",
       "    </tr>\n",
       "    <tr>\n",
       "      <th>2</th>\n",
       "      <td>21.01</td>\n",
       "      <td>3.50</td>\n",
       "      <td>Male</td>\n",
       "      <td>No</td>\n",
       "      <td>Sun</td>\n",
       "      <td>Dinner</td>\n",
       "      <td>3</td>\n",
       "    </tr>\n",
       "    <tr>\n",
       "      <th>3</th>\n",
       "      <td>23.68</td>\n",
       "      <td>3.31</td>\n",
       "      <td>Male</td>\n",
       "      <td>No</td>\n",
       "      <td>Sun</td>\n",
       "      <td>Dinner</td>\n",
       "      <td>2</td>\n",
       "    </tr>\n",
       "    <tr>\n",
       "      <th>4</th>\n",
       "      <td>24.59</td>\n",
       "      <td>3.61</td>\n",
       "      <td>Female</td>\n",
       "      <td>No</td>\n",
       "      <td>Sun</td>\n",
       "      <td>Dinner</td>\n",
       "      <td>4</td>\n",
       "    </tr>\n",
       "    <tr>\n",
       "      <th>...</th>\n",
       "      <td>...</td>\n",
       "      <td>...</td>\n",
       "      <td>...</td>\n",
       "      <td>...</td>\n",
       "      <td>...</td>\n",
       "      <td>...</td>\n",
       "      <td>...</td>\n",
       "    </tr>\n",
       "    <tr>\n",
       "      <th>239</th>\n",
       "      <td>29.03</td>\n",
       "      <td>5.92</td>\n",
       "      <td>Male</td>\n",
       "      <td>No</td>\n",
       "      <td>Sat</td>\n",
       "      <td>Dinner</td>\n",
       "      <td>3</td>\n",
       "    </tr>\n",
       "    <tr>\n",
       "      <th>240</th>\n",
       "      <td>27.18</td>\n",
       "      <td>2.00</td>\n",
       "      <td>Female</td>\n",
       "      <td>Yes</td>\n",
       "      <td>Sat</td>\n",
       "      <td>Dinner</td>\n",
       "      <td>2</td>\n",
       "    </tr>\n",
       "    <tr>\n",
       "      <th>241</th>\n",
       "      <td>22.67</td>\n",
       "      <td>2.00</td>\n",
       "      <td>Male</td>\n",
       "      <td>Yes</td>\n",
       "      <td>Sat</td>\n",
       "      <td>Dinner</td>\n",
       "      <td>2</td>\n",
       "    </tr>\n",
       "    <tr>\n",
       "      <th>242</th>\n",
       "      <td>17.82</td>\n",
       "      <td>1.75</td>\n",
       "      <td>Male</td>\n",
       "      <td>No</td>\n",
       "      <td>Sat</td>\n",
       "      <td>Dinner</td>\n",
       "      <td>2</td>\n",
       "    </tr>\n",
       "    <tr>\n",
       "      <th>243</th>\n",
       "      <td>18.78</td>\n",
       "      <td>3.00</td>\n",
       "      <td>Female</td>\n",
       "      <td>No</td>\n",
       "      <td>Thur</td>\n",
       "      <td>Dinner</td>\n",
       "      <td>2</td>\n",
       "    </tr>\n",
       "  </tbody>\n",
       "</table>\n",
       "<p>244 rows × 7 columns</p>\n",
       "</div>"
      ],
      "text/plain": [
       "     total_bill   tip     sex smoker   day    time  size\n",
       "0         16.99  1.01  Female     No   Sun  Dinner     2\n",
       "1         10.34  1.66    Male     No   Sun  Dinner     3\n",
       "2         21.01  3.50    Male     No   Sun  Dinner     3\n",
       "3         23.68  3.31    Male     No   Sun  Dinner     2\n",
       "4         24.59  3.61  Female     No   Sun  Dinner     4\n",
       "..          ...   ...     ...    ...   ...     ...   ...\n",
       "239       29.03  5.92    Male     No   Sat  Dinner     3\n",
       "240       27.18  2.00  Female    Yes   Sat  Dinner     2\n",
       "241       22.67  2.00    Male    Yes   Sat  Dinner     2\n",
       "242       17.82  1.75    Male     No   Sat  Dinner     2\n",
       "243       18.78  3.00  Female     No  Thur  Dinner     2\n",
       "\n",
       "[244 rows x 7 columns]"
      ]
     },
     "execution_count": 53,
     "metadata": {},
     "output_type": "execute_result"
    }
   ],
   "source": [
    "df"
   ]
  },
  {
   "cell_type": "markdown",
   "id": "03d3fb0e",
   "metadata": {},
   "source": [
    "# 1st"
   ]
  },
  {
   "cell_type": "code",
   "execution_count": 54,
   "id": "d7455220",
   "metadata": {},
   "outputs": [
    {
     "name": "stdout",
     "output_type": "stream",
     "text": [
      "Maximum :  50.81\n",
      "Minimum :  3.07\n",
      "Mean :  19.785942622950824\n",
      "Standard Deviation :  8.88415057777113\n",
      "Median :  17.795\n"
     ]
    }
   ],
   "source": [
    "# Five number summary for Total Bill\n",
    "\n",
    "bill = df.total_bill\n",
    "\n",
    "print(\"Maximum : \" , np.max(bill))\n",
    "print(\"Minimum : \" , np.min(bill))\n",
    "print(\"Mean : \" , np.mean(bill))\n",
    "print(\"Standard Deviation : \" , np.std(bill))\n",
    "print(\"Median : \" , np.median(bill))"
   ]
  },
  {
   "cell_type": "code",
   "execution_count": 55,
   "id": "97a1c35f",
   "metadata": {},
   "outputs": [
    {
     "name": "stdout",
     "output_type": "stream",
     "text": [
      "Maximum : 10.0\n",
      "Minimum : 1.0\n",
      "Median : 2.9\n",
      "Standard Deviation : 1.3807999538298958\n",
      "Mean : 2.9982786885245902\n"
     ]
    }
   ],
   "source": [
    "# Five Number Summary For Tip\n",
    "tip = df.tip\n",
    "\n",
    "print(\"Maximum :\", np.max(tip))\n",
    "print(\"Minimum :\", np.min(tip))\n",
    "print(\"Median :\", np.median(tip))\n",
    "print(\"Standard Deviation :\", np.std(tip))\n",
    "print(\"Mean :\", np.mean(tip))"
   ]
  },
  {
   "cell_type": "code",
   "execution_count": 56,
   "id": "e98d005d",
   "metadata": {},
   "outputs": [
    {
     "data": {
      "text/plain": [
       "count    244.000000\n",
       "mean       2.998279\n",
       "std        1.383638\n",
       "min        1.000000\n",
       "25%        2.000000\n",
       "50%        2.900000\n",
       "75%        3.562500\n",
       "max       10.000000\n",
       "Name: tip, dtype: float64"
      ]
     },
     "execution_count": 56,
     "metadata": {},
     "output_type": "execute_result"
    }
   ],
   "source": [
    "# we can also get 5 number summary by using the describe()\n",
    "tip.describe()"
   ]
  },
  {
   "cell_type": "code",
   "execution_count": 57,
   "id": "fe266fac",
   "metadata": {},
   "outputs": [
    {
     "data": {
      "text/plain": [
       "count    244.000000\n",
       "mean      19.785943\n",
       "std        8.902412\n",
       "min        3.070000\n",
       "25%       13.347500\n",
       "50%       17.795000\n",
       "75%       24.127500\n",
       "max       50.810000\n",
       "Name: total_bill, dtype: float64"
      ]
     },
     "execution_count": 57,
     "metadata": {},
     "output_type": "execute_result"
    }
   ],
   "source": [
    "bill.describe()"
   ]
  },
  {
   "cell_type": "code",
   "execution_count": null,
   "id": "de5b2fa0",
   "metadata": {},
   "outputs": [],
   "source": []
  },
  {
   "cell_type": "markdown",
   "id": "dac57cf4",
   "metadata": {},
   "source": [
    "# 2nd"
   ]
  },
  {
   "cell_type": "code",
   "execution_count": null,
   "id": "82cf6bdc",
   "metadata": {},
   "outputs": [],
   "source": []
  },
  {
   "cell_type": "code",
   "execution_count": 43,
   "id": "d39e08d5",
   "metadata": {},
   "outputs": [
    {
     "data": {
      "image/png": "[encoded data removed]",
      "text/plain": [
       "<Figure size 432x288 with 1 Axes>"
      ]
     },
     "metadata": {},
     "output_type": "display_data"
    }
   ],
   "source": [
    "# box plot for Total Bill\n",
    "\n",
    "sns.set(style=\"whitegrid\")\n",
    "ax = sns.boxplot(x=df[\"total_bill\"] , color = 'red')"
   ]
  },
  {
   "cell_type": "code",
   "execution_count": 58,
   "id": "9acba8f2",
   "metadata": {},
   "outputs": [
    {
     "data": {
      "image/png": "[encoded data removed]",
      "text/plain": [
       "<Figure size 432x288 with 1 Axes>"
      ]
     },
     "metadata": {},
     "output_type": "display_data"
    }
   ],
   "source": [
    "# Boxplot for Tip\n",
    "\n",
    "sns.set(style=\"whitegrid\")\n",
    "ax = sns.boxplot(x=df[\"tip\"] , color='blue')"
   ]
  },
  {
   "cell_type": "code",
   "execution_count": null,
   "id": "27b3c15c",
   "metadata": {},
   "outputs": [],
   "source": []
  },
  {
   "cell_type": "markdown",
   "id": "b01afb2b",
   "metadata": {},
   "source": [
    "# 3rd"
   ]
  },
  {
   "cell_type": "code",
   "execution_count": null,
   "id": "374fb7a5",
   "metadata": {},
   "outputs": [],
   "source": []
  },
  {
   "cell_type": "code",
   "execution_count": 59,
   "id": "d0802784",
   "metadata": {},
   "outputs": [
    {
     "data": {
      "image/png": "[encoded data removed]",
      "text/plain": [
       "<Figure size 576x576 with 1 Axes>"
      ]
     },
     "metadata": {},
     "output_type": "display_data"
    }
   ],
   "source": [
    "# analyzing the total bill tomark the skewness in the data \n",
    "\n",
    "plt.figure(figsize=[8,8])\n",
    "n , bins , ax = plt.hist(x= df[\"total_bill\"] , bins = 20 , color = \"red\")\n",
    "plt.xlabel(\"Total Bill\" , fontsize = 20)\n",
    "plt.ylabel(\"Distribution\" , fontsize = 20)\n",
    "plt.title(\"Normal Distribution Histogram For Total Bill\" , fontsize = 27)\n",
    "plt.grid(axis = 'y', alpha = 0.789)\n",
    "plt.show()"
   ]
  },
  {
   "cell_type": "code",
   "execution_count": null,
   "id": "07a138a4",
   "metadata": {},
   "outputs": [],
   "source": []
  },
  {
   "cell_type": "code",
   "execution_count": 60,
   "id": "bf5f1f18",
   "metadata": {},
   "outputs": [
    {
     "data": {
      "image/png": "[encoded data removed]",
      "text/plain": [
       "<Figure size 576x576 with 1 Axes>"
      ]
     },
     "metadata": {},
     "output_type": "display_data"
    }
   ],
   "source": [
    "# Analyzing the data To get the skwness in the data From Tip\n",
    "\n",
    "plt.figure(figsize = [8,8])\n",
    "n , bins , ax =plt.hist(x =df[\"tip\"] , bins = 20 , color = \"blue\")\n",
    "plt.xlabel(\"Tips Collected\" , fontsize = 20)\n",
    "plt.ylabel(\"Distribution\" , fontsize = 20)\n",
    "plt.title(\"Normal Distribution For Tips\" , fontsize=27)\n",
    "plt.grid(axis = 'y' , alpha = 0.789)\n",
    "plt.show()"
   ]
  },
  {
   "cell_type": "code",
   "execution_count": null,
   "id": "dfb0cd7e",
   "metadata": {},
   "outputs": [],
   "source": []
  },
  {
   "cell_type": "markdown",
   "id": "377deda1",
   "metadata": {},
   "source": [
    "# 4th"
   ]
  },
  {
   "cell_type": "code",
   "execution_count": null,
   "id": "db2169c7",
   "metadata": {},
   "outputs": [],
   "source": []
  },
  {
   "cell_type": "code",
   "execution_count": 64,
   "id": "7b5c13df",
   "metadata": {},
   "outputs": [
    {
     "name": "stdout",
     "output_type": "stream",
     "text": [
      "***The Plot shows 8 Points outside the Box That are Not Included***\n"
     ]
    },
    {
     "data": {
      "image/png": "[encoded data removed]",
      "text/plain": [
       "<Figure size 1008x576 with 1 Axes>"
      ]
     },
     "metadata": {},
     "output_type": "display_data"
    }
   ],
   "source": [
    "# Outlier for Total Bill\n",
    "\n",
    "plt.figure(figsize = [14,8])\n",
    "ax = sns.boxplot(x = df[\"total_bill\"] , color = \"red\")\n",
    "print(\"***The Plot shows 8 Points outside the Box That are Not Included***\")"
   ]
  },
  {
   "cell_type": "code",
   "execution_count": null,
   "id": "5b5a688d",
   "metadata": {},
   "outputs": [],
   "source": []
  },
  {
   "cell_type": "code",
   "execution_count": 66,
   "id": "374ce10a",
   "metadata": {},
   "outputs": [
    {
     "data": {
      "image/png": "[encoded data removed]",
      "text/plain": [
       "<Figure size 1008x576 with 1 Axes>"
      ]
     },
     "metadata": {},
     "output_type": "display_data"
    },
    {
     "name": "stdout",
     "output_type": "stream",
     "text": [
      "***The Plot shows 8 points outside the box that are Not Included***\n"
     ]
    }
   ],
   "source": [
    "# Outlier for Tip\n",
    "\n",
    "plt.figure(figsize = [14,8])\n",
    "ax = sns.boxplot(x = df[\"tip\"] , color=\"blue\")\n",
    "plt.show()\n",
    "print(\"***The Plot shows 8 points outside the box that are Not Included***\")"
   ]
  },
  {
   "cell_type": "markdown",
   "id": "7b44a2d4",
   "metadata": {},
   "source": []
  },
  {
   "cell_type": "markdown",
   "id": "9d5b9532",
   "metadata": {},
   "source": [
    "# 5th"
   ]
  },
  {
   "cell_type": "code",
   "execution_count": 82,
   "id": "8a7c9593",
   "metadata": {},
   "outputs": [
    {
     "name": "stdout",
     "output_type": "stream",
     "text": [
      "     total_bill   tip  size\n",
      "0         16.99  1.01     2\n",
      "1         10.34  1.66     3\n",
      "2         21.01  3.50     3\n",
      "3         23.68  3.31     2\n",
      "4         24.59  3.61     4\n",
      "..          ...   ...   ...\n",
      "239       29.03  5.92     3\n",
      "240       27.18  2.00     2\n",
      "241       22.67  2.00     2\n",
      "242       17.82  1.75     2\n",
      "243       18.78  3.00     2\n",
      "\n",
      "[244 rows x 3 columns]\n",
      "\n",
      " \n",
      "\n",
      "\n",
      " \n",
      "\n",
      "IQR For Total Bill 10.779999999999998\n",
      "IQR For Tip 1.5625\n",
      "IQR For Total Bill and Tips 11.302499999999998\n"
     ]
    }
   ],
   "source": [
    "# IQR Values\n",
    "\n",
    "bill_tip = pd.DataFrame(df , columns=[\"total_bill\",\"tip\",\"size\"])\n",
    "print(bill_tip)\n",
    "\n",
    "print(\"\\n \\n\")\n",
    "print(\"\\n \\n\")\n",
    "\n",
    "\n",
    "print(\"IQR For Total Bill\" , stats.iqr(bill))\n",
    "print(\"IQR For Tip\" , stats.iqr(tip))\n",
    "print(\"IQR For Total Bill and Tips\" , stats.iqr(bill_tip))"
   ]
  },
  {
   "cell_type": "code",
   "execution_count": null,
   "id": "f195a22e",
   "metadata": {},
   "outputs": [],
   "source": []
  },
  {
   "cell_type": "markdown",
   "id": "38b15c75",
   "metadata": {},
   "source": [
    "# 6th "
   ]
  },
  {
   "cell_type": "code",
   "execution_count": null,
   "id": "07a210cb",
   "metadata": {},
   "outputs": [],
   "source": []
  },
  {
   "cell_type": "code",
   "execution_count": 88,
   "id": "7886e012",
   "metadata": {},
   "outputs": [
    {
     "data": {
      "image/png": "[encoded data removed]",
      "text/plain": [
       "<Figure size 576x576 with 1 Axes>"
      ]
     },
     "metadata": {},
     "output_type": "display_data"
    }
   ],
   "source": [
    "plt.figure(figsize=[8,8])\n",
    "n , bins , ax = plt.hist(x = df[\"total_bill\"], bins = 20 , color = \"red\")\n",
    "plt.xlabel(\"Total Bill\" , fontsize = 20)\n",
    "plt.ylabel(\"Distribution\" ,fontsize = 20)\n",
    "plt.title(\"Histogram For Total Bill - Bins = 20\" , fontsize = 29)\n",
    "plt.grid(axis = 'y' ,alpha = 0.789)\n",
    "plt.show()"
   ]
  },
  {
   "cell_type": "code",
   "execution_count": 90,
   "id": "980a5376",
   "metadata": {},
   "outputs": [
    {
     "data": {
      "image/png": "[encoded data removed]",
      "text/plain": [
       "<Figure size 576x576 with 1 Axes>"
      ]
     },
     "metadata": {},
     "output_type": "display_data"
    }
   ],
   "source": [
    "# Histogram for tip\n",
    "plt.figure(figsize = [8,8])\n",
    "n , bins , ax = plt.hist(x = df[\"tip\"], bins = 20 ,  color = \"Blue\")\n",
    "plt.xlabel(\"Tip Collected\" , fontsize = 20)\n",
    "plt.ylabel(\"Distribution\" , fontsize = 20)\n",
    "plt.title(\"Histogram For Tip\" , fontsize = 29)\n",
    "plt.grid(axis = 'y' , alpha = 0.789)\n",
    "plt.show()"
   ]
  },
  {
   "cell_type": "code",
   "execution_count": null,
   "id": "c0b1e8a4",
   "metadata": {},
   "outputs": [],
   "source": []
  },
  {
   "cell_type": "markdown",
   "id": "dff2dda5",
   "metadata": {},
   "source": [
    "# 7TH"
   ]
  },
  {
   "cell_type": "code",
   "execution_count": null,
   "id": "8f3784c9",
   "metadata": {},
   "outputs": [],
   "source": []
  },
  {
   "cell_type": "code",
   "execution_count": 92,
   "id": "db5ddd95",
   "metadata": {},
   "outputs": [
    {
     "name": "stdout",
     "output_type": "stream",
     "text": [
      "Tn the Total_Bill\n",
      "\n",
      "\n",
      "The long tail is on the right side of the Histogram so the It is the Rif=ght Skewed ie. Mean > Median\n"
     ]
    }
   ],
   "source": [
    "print(\"Tn the Total_Bill\")\n",
    "print(\"\\n\")\n",
    "print(\"The long tail is on the right side of the Histogram so the It is the Rif=ght Skewed ie. Mean > Median\")"
   ]
  },
  {
   "cell_type": "code",
   "execution_count": 95,
   "id": "f7054c1f",
   "metadata": {},
   "outputs": [
    {
     "name": "stdout",
     "output_type": "stream",
     "text": [
      "In the Tip\n",
      "\n",
      "\n",
      "The lonfg tail is ON the right side of the Histogram that means the graph is the right skewed ie. Mean  > Median\n"
     ]
    }
   ],
   "source": [
    "print(\"In the Tip\")\n",
    "print(\"\\n\")\n",
    "print(\"The lonfg tail is ON the right side of the Histogram that means the graph is the right skewed ie. Mean  > Median\")"
   ]
  },
  {
   "cell_type": "code",
   "execution_count": null,
   "id": "421dc0e1",
   "metadata": {},
   "outputs": [],
   "source": []
  },
  {
   "cell_type": "markdown",
   "id": "4ce6e293",
   "metadata": {},
   "source": [
    "# 8th"
   ]
  },
  {
   "cell_type": "code",
   "execution_count": null,
   "id": "1666ede4",
   "metadata": {},
   "outputs": [],
   "source": []
  },
  {
   "cell_type": "code",
   "execution_count": 99,
   "id": "9ae9c950",
   "metadata": {},
   "outputs": [
    {
     "data": {
      "image/png": "[encoded data removed]",
      "text/plain": [
       "<Figure size 432x288 with 1 Axes>"
      ]
     },
     "metadata": {},
     "output_type": "display_data"
    }
   ],
   "source": [
    "# Culumative Frequency Polygon for total_bill\n",
    "\n",
    "values , base = np.histogram(bill , bins = 20)\n",
    "\n",
    "cumulative = np.cumsum(values)\n",
    "\n",
    "plt.plot(base[:-1], cumulative)\n",
    "plt.title(\"Total Bill\", fontsize = 20)\n",
    "\n",
    "plt.show()"
   ]
  },
  {
   "cell_type": "code",
   "execution_count": 102,
   "id": "ff86ec82",
   "metadata": {},
   "outputs": [
    {
     "data": {
      "image/png": "[encoded data removed]",
      "text/plain": [
       "<Figure size 432x288 with 1 Axes>"
      ]
     },
     "metadata": {},
     "output_type": "display_data"
    }
   ],
   "source": [
    "# cumulative frequency Polygon For Tip\n",
    "values , base = np.histogram(tip , bins = 20)\n",
    "cumulative = np.cumsum(values)\n",
    "plt.plot(base[:-1] , cumulative)\n",
    "plt.title(\"Tip Collected\" , fontsize=20)\n",
    "plt.show()"
   ]
  },
  {
   "cell_type": "code",
   "execution_count": null,
   "id": "b1ee3146",
   "metadata": {},
   "outputs": [],
   "source": []
  },
  {
   "cell_type": "code",
   "execution_count": null,
   "id": "401a2f5d",
   "metadata": {},
   "outputs": [],
   "source": []
  },
  {
   "cell_type": "code",
   "execution_count": null,
   "id": "17196c68",
   "metadata": {},
   "outputs": [],
   "source": []
  },
  {
   "cell_type": "code",
   "execution_count": null,
   "id": "be1aa3fa",
   "metadata": {},
   "outputs": [],
   "source": []
  }
 ],
 "metadata": {
  "kernelspec": {
   "display_name": "Python 3",
   "language": "python",
   "name": "python3"
  },
  "language_info": {
   "codemirror_mode": {
    "name": "ipython",
    "version": 3
   },
   "file_extension": ".py",
   "mimetype": "text/x-python",
   "name": "python",
   "nbconvert_exporter": "python",
   "pygments_lexer": "ipython3",
   "version": "3.8.8"
  }
 },
 "nbformat": 4,
 "nbformat_minor": 5
}
